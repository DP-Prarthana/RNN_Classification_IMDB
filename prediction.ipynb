{
 "cells": [
  {
   "cell_type": "code",
   "execution_count": 1,
   "metadata": {},
   "outputs": [],
   "source": [
    "import numpy as np\n",
    "import tensorflow as tf\n",
    "from tensorflow.keras.datasets import imdb\n",
    "from tensorflow.keras.preprocessing import sequence\n",
    "from tensorflow.keras.models import load_model"
   ]
  },
  {
   "cell_type": "code",
   "execution_count": 2,
   "metadata": {},
   "outputs": [],
   "source": [
    "word_index = imdb.get_word_index()\n",
    "#word_index\n",
    "reverse_word_index = {value:key for key , value in word_index.items()}"
   ]
  },
  {
   "cell_type": "code",
   "execution_count": 4,
   "metadata": {},
   "outputs": [
    {
     "name": "stderr",
     "output_type": "stream",
     "text": [
      "WARNING:absl:Compiled the loaded model, but the compiled metrics have yet to be built. `model.compile_metrics` will be empty until you train or evaluate the model.\n"
     ]
    },
    {
     "data": {
      "text/html": [
       "<pre style=\"white-space:pre;overflow-x:auto;line-height:normal;font-family:Menlo,'DejaVu Sans Mono',consolas,'Courier New',monospace\"><span style=\"font-weight: bold\">Model: \"sequential\"</span>\n",
       "</pre>\n"
      ],
      "text/plain": [
       "\u001b[1mModel: \"sequential\"\u001b[0m\n"
      ]
     },
     "metadata": {},
     "output_type": "display_data"
    },
    {
     "data": {
      "text/html": [
       "<pre style=\"white-space:pre;overflow-x:auto;line-height:normal;font-family:Menlo,'DejaVu Sans Mono',consolas,'Courier New',monospace\">┏━━━━━━━━━━━━━━━━━━━━━━━━━━━━━━━━━┳━━━━━━━━━━━━━━━━━━━━━━━━┳━━━━━━━━━━━━━━━┓\n",
       "┃<span style=\"font-weight: bold\"> Layer (type)                    </span>┃<span style=\"font-weight: bold\"> Output Shape           </span>┃<span style=\"font-weight: bold\">       Param # </span>┃\n",
       "┡━━━━━━━━━━━━━━━━━━━━━━━━━━━━━━━━━╇━━━━━━━━━━━━━━━━━━━━━━━━╇━━━━━━━━━━━━━━━┩\n",
       "│ embedding (<span style=\"color: #0087ff; text-decoration-color: #0087ff\">Embedding</span>)           │ (<span style=\"color: #00af00; text-decoration-color: #00af00\">32</span>, <span style=\"color: #00af00; text-decoration-color: #00af00\">500</span>, <span style=\"color: #00af00; text-decoration-color: #00af00\">128</span>)         │     <span style=\"color: #00af00; text-decoration-color: #00af00\">1,280,000</span> │\n",
       "├─────────────────────────────────┼────────────────────────┼───────────────┤\n",
       "│ simple_rnn (<span style=\"color: #0087ff; text-decoration-color: #0087ff\">SimpleRNN</span>)          │ (<span style=\"color: #00af00; text-decoration-color: #00af00\">32</span>, <span style=\"color: #00af00; text-decoration-color: #00af00\">128</span>)              │        <span style=\"color: #00af00; text-decoration-color: #00af00\">32,896</span> │\n",
       "├─────────────────────────────────┼────────────────────────┼───────────────┤\n",
       "│ dense (<span style=\"color: #0087ff; text-decoration-color: #0087ff\">Dense</span>)                   │ (<span style=\"color: #00af00; text-decoration-color: #00af00\">32</span>, <span style=\"color: #00af00; text-decoration-color: #00af00\">1</span>)                │           <span style=\"color: #00af00; text-decoration-color: #00af00\">129</span> │\n",
       "└─────────────────────────────────┴────────────────────────┴───────────────┘\n",
       "</pre>\n"
      ],
      "text/plain": [
       "┏━━━━━━━━━━━━━━━━━━━━━━━━━━━━━━━━━┳━━━━━━━━━━━━━━━━━━━━━━━━┳━━━━━━━━━━━━━━━┓\n",
       "┃\u001b[1m \u001b[0m\u001b[1mLayer (type)                   \u001b[0m\u001b[1m \u001b[0m┃\u001b[1m \u001b[0m\u001b[1mOutput Shape          \u001b[0m\u001b[1m \u001b[0m┃\u001b[1m \u001b[0m\u001b[1m      Param #\u001b[0m\u001b[1m \u001b[0m┃\n",
       "┡━━━━━━━━━━━━━━━━━━━━━━━━━━━━━━━━━╇━━━━━━━━━━━━━━━━━━━━━━━━╇━━━━━━━━━━━━━━━┩\n",
       "│ embedding (\u001b[38;5;33mEmbedding\u001b[0m)           │ (\u001b[38;5;34m32\u001b[0m, \u001b[38;5;34m500\u001b[0m, \u001b[38;5;34m128\u001b[0m)         │     \u001b[38;5;34m1,280,000\u001b[0m │\n",
       "├─────────────────────────────────┼────────────────────────┼───────────────┤\n",
       "│ simple_rnn (\u001b[38;5;33mSimpleRNN\u001b[0m)          │ (\u001b[38;5;34m32\u001b[0m, \u001b[38;5;34m128\u001b[0m)              │        \u001b[38;5;34m32,896\u001b[0m │\n",
       "├─────────────────────────────────┼────────────────────────┼───────────────┤\n",
       "│ dense (\u001b[38;5;33mDense\u001b[0m)                   │ (\u001b[38;5;34m32\u001b[0m, \u001b[38;5;34m1\u001b[0m)                │           \u001b[38;5;34m129\u001b[0m │\n",
       "└─────────────────────────────────┴────────────────────────┴───────────────┘\n"
      ]
     },
     "metadata": {},
     "output_type": "display_data"
    },
    {
     "data": {
      "text/html": [
       "<pre style=\"white-space:pre;overflow-x:auto;line-height:normal;font-family:Menlo,'DejaVu Sans Mono',consolas,'Courier New',monospace\"><span style=\"font-weight: bold\"> Total params: </span><span style=\"color: #00af00; text-decoration-color: #00af00\">1,313,027</span> (5.01 MB)\n",
       "</pre>\n"
      ],
      "text/plain": [
       "\u001b[1m Total params: \u001b[0m\u001b[38;5;34m1,313,027\u001b[0m (5.01 MB)\n"
      ]
     },
     "metadata": {},
     "output_type": "display_data"
    },
    {
     "data": {
      "text/html": [
       "<pre style=\"white-space:pre;overflow-x:auto;line-height:normal;font-family:Menlo,'DejaVu Sans Mono',consolas,'Courier New',monospace\"><span style=\"font-weight: bold\"> Trainable params: </span><span style=\"color: #00af00; text-decoration-color: #00af00\">1,313,025</span> (5.01 MB)\n",
       "</pre>\n"
      ],
      "text/plain": [
       "\u001b[1m Trainable params: \u001b[0m\u001b[38;5;34m1,313,025\u001b[0m (5.01 MB)\n"
      ]
     },
     "metadata": {},
     "output_type": "display_data"
    },
    {
     "data": {
      "text/html": [
       "<pre style=\"white-space:pre;overflow-x:auto;line-height:normal;font-family:Menlo,'DejaVu Sans Mono',consolas,'Courier New',monospace\"><span style=\"font-weight: bold\"> Non-trainable params: </span><span style=\"color: #00af00; text-decoration-color: #00af00\">0</span> (0.00 B)\n",
       "</pre>\n"
      ],
      "text/plain": [
       "\u001b[1m Non-trainable params: \u001b[0m\u001b[38;5;34m0\u001b[0m (0.00 B)\n"
      ]
     },
     "metadata": {},
     "output_type": "display_data"
    },
    {
     "data": {
      "text/html": [
       "<pre style=\"white-space:pre;overflow-x:auto;line-height:normal;font-family:Menlo,'DejaVu Sans Mono',consolas,'Courier New',monospace\"><span style=\"font-weight: bold\"> Optimizer params: </span><span style=\"color: #00af00; text-decoration-color: #00af00\">2</span> (12.00 B)\n",
       "</pre>\n"
      ],
      "text/plain": [
       "\u001b[1m Optimizer params: \u001b[0m\u001b[38;5;34m2\u001b[0m (12.00 B)\n"
      ]
     },
     "metadata": {},
     "output_type": "display_data"
    }
   ],
   "source": [
    "model =load_model('simple_rnn_imdb.h5')\n",
    "model.summary()"
   ]
  },
  {
   "cell_type": "code",
   "execution_count": 5,
   "metadata": {},
   "outputs": [
    {
     "data": {
      "text/plain": [
       "[array([[ 0.36597225,  0.1871445 , -0.22016214, ..., -0.9993613 ,\n",
       "          0.87646675, -0.31078145],\n",
       "        [ 0.06331327, -0.01465638, -0.03639104, ..., -0.04971288,\n",
       "          0.0985655 , -0.02433501],\n",
       "        [-0.03300373, -0.06387109,  0.0274957 , ...,  0.06774446,\n",
       "          0.00462548,  0.05610873],\n",
       "        ...,\n",
       "        [-0.03280042, -0.01299397, -0.0134786 , ...,  0.03285616,\n",
       "         -0.0284426 , -0.03425895],\n",
       "        [-0.00301259,  0.06306246,  0.1554161 , ..., -0.0345699 ,\n",
       "         -0.00723769,  0.00775838],\n",
       "        [ 0.08834383, -0.0463907 , -0.00910189, ...,  0.085699  ,\n",
       "         -0.07309919,  0.08224631]], dtype=float32),\n",
       " array([[ 0.01848205, -0.03799791,  0.09833827, ...,  0.15380548,\n",
       "          0.06325982,  0.03180727],\n",
       "        [-0.14294185,  0.01604025,  0.0522725 , ...,  0.02166018,\n",
       "         -0.03003662, -0.04966602],\n",
       "        [-0.11562037, -0.07687633,  0.17204693, ..., -0.08327165,\n",
       "          0.1398335 ,  0.04797713],\n",
       "        ...,\n",
       "        [-0.05417874,  0.12452639,  0.25001842, ...,  0.06161785,\n",
       "         -0.0686601 , -0.16308531],\n",
       "        [ 0.05847638, -0.02940182, -0.10066032, ..., -0.00511082,\n",
       "         -0.02789046, -0.10562082],\n",
       "        [-0.02153028, -0.00235879, -0.05461823, ..., -0.1035687 ,\n",
       "         -0.07403751, -0.01055854]], dtype=float32),\n",
       " array([[-0.03524547,  0.05009709,  0.14313501, ...,  0.05860706,\n",
       "         -0.1014504 , -0.12504934],\n",
       "        [-0.21973488, -0.06752601,  0.02830616, ..., -0.06263304,\n",
       "         -0.04042676,  0.06144489],\n",
       "        [ 0.12293767, -0.01400695,  0.02879946, ..., -0.1516262 ,\n",
       "          0.20466742,  0.39887688],\n",
       "        ...,\n",
       "        [-0.00408937,  0.07626929, -0.05639895, ...,  0.01339933,\n",
       "          0.18984012,  0.05609812],\n",
       "        [-0.1006574 ,  0.0094074 ,  0.09113146, ...,  0.17681228,\n",
       "         -0.09869084, -0.05681008],\n",
       "        [-0.01409321,  0.18561022, -0.1447041 , ..., -0.19730444,\n",
       "         -0.07932253, -0.07330728]], dtype=float32),\n",
       " array([ 0.00436995, -0.04516899, -0.02954232,  0.03475208, -0.05213448,\n",
       "         0.02641233, -0.03783275, -0.01366197, -0.03835422, -0.0394772 ,\n",
       "        -0.01442029, -0.00336732,  0.0162026 , -0.00616495,  0.03359234,\n",
       "         0.03780505,  0.03474911, -0.04741552, -0.00811361, -0.04472831,\n",
       "        -0.00588455, -0.0447611 , -0.03570198,  0.04282017,  0.03555434,\n",
       "         0.00050612, -0.00519848, -0.02938338,  0.02514646, -0.03157612,\n",
       "        -0.04603358, -0.03115166, -0.0416636 ,  0.05484371, -0.03014688,\n",
       "         0.00135571,  0.02488486, -0.04208571, -0.0685004 , -0.01270298,\n",
       "        -0.02182835, -0.00688991, -0.03910736, -0.03682525, -0.03739386,\n",
       "        -0.03457903,  0.02519225,  0.02865561,  0.03681976,  0.01765007,\n",
       "        -0.00545057, -0.0179897 , -0.01577481, -0.00739957,  0.0388963 ,\n",
       "        -0.03842645, -0.00245845, -0.04073973,  0.02976757,  0.02875569,\n",
       "        -0.02895637,  0.03072541, -0.02364163, -0.01404273, -0.01207813,\n",
       "        -0.01109669, -0.04348012, -0.03133673, -0.04981071, -0.04020698,\n",
       "        -0.04575202, -0.0228072 , -0.03783399, -0.02669945, -0.02489373,\n",
       "         0.02691437, -0.01713385,  0.02717523, -0.03938833, -0.01843221,\n",
       "         0.04783357, -0.01003132, -0.00033096,  0.0030607 ,  0.00400618,\n",
       "         0.02322676, -0.03433884, -0.0059473 , -0.05153033,  0.01644607,\n",
       "        -0.0181741 , -0.04059895, -0.00851903, -0.02418797,  0.00093271,\n",
       "        -0.01630209, -0.02457424,  0.01983623, -0.0006774 ,  0.0060856 ,\n",
       "         0.01487955, -0.01417786, -0.01063444, -0.03056183, -0.03368267,\n",
       "         0.03421368, -0.0345944 , -0.02509523, -0.03906902,  0.03398597,\n",
       "         0.01757229,  0.00622222, -0.04679023, -0.01944702, -0.0364874 ,\n",
       "        -0.01522435, -0.0267234 ,  0.03841477,  0.03025553, -0.04911476,\n",
       "        -0.02236355, -0.01746764, -0.01295962,  0.00237361, -0.04268753,\n",
       "        -0.01940742, -0.04276484, -0.03247184], dtype=float32),\n",
       " array([[ 0.22968228],\n",
       "        [ 0.241837  ],\n",
       "        [ 0.20533757],\n",
       "        [ 0.04834659],\n",
       "        [-0.32928127],\n",
       "        [ 0.21356314],\n",
       "        [ 0.16987583],\n",
       "        [-0.45613652],\n",
       "        [ 0.01106276],\n",
       "        [ 0.05063332],\n",
       "        [ 0.04122084],\n",
       "        [-0.00302355],\n",
       "        [-0.14729357],\n",
       "        [-0.12804686],\n",
       "        [ 0.00795299],\n",
       "        [ 0.1145991 ],\n",
       "        [-0.11763132],\n",
       "        [-0.16152228],\n",
       "        [-0.20469506],\n",
       "        [-0.18906853],\n",
       "        [ 0.23188357],\n",
       "        [ 0.02428402],\n",
       "        [-0.13000675],\n",
       "        [-0.00918347],\n",
       "        [ 0.2420244 ],\n",
       "        [ 0.21711954],\n",
       "        [-0.15330957],\n",
       "        [-0.1715663 ],\n",
       "        [ 0.01702549],\n",
       "        [-0.11091679],\n",
       "        [ 0.15810747],\n",
       "        [ 0.1261437 ],\n",
       "        [-0.11403447],\n",
       "        [-0.02623728],\n",
       "        [-0.15437071],\n",
       "        [-0.10101479],\n",
       "        [ 0.30752587],\n",
       "        [-0.18129523],\n",
       "        [-0.06495582],\n",
       "        [-0.2709048 ],\n",
       "        [ 0.00930695],\n",
       "        [-0.1226815 ],\n",
       "        [ 0.02923308],\n",
       "        [-0.14361982],\n",
       "        [ 0.12128231],\n",
       "        [ 0.04984037],\n",
       "        [-0.10418607],\n",
       "        [ 0.20149061],\n",
       "        [ 0.03375814],\n",
       "        [-0.1392351 ],\n",
       "        [-0.11879718],\n",
       "        [ 0.0889413 ],\n",
       "        [ 0.02287711],\n",
       "        [-0.22174534],\n",
       "        [ 0.10684264],\n",
       "        [ 0.0635925 ],\n",
       "        [-0.73824614],\n",
       "        [-0.249818  ],\n",
       "        [-0.06337365],\n",
       "        [ 0.06943215],\n",
       "        [-0.08220267],\n",
       "        [ 0.02603454],\n",
       "        [ 0.0116109 ],\n",
       "        [ 0.20726204],\n",
       "        [-0.13760157],\n",
       "        [ 0.06920562],\n",
       "        [-0.1557567 ],\n",
       "        [ 0.08003755],\n",
       "        [-0.17322864],\n",
       "        [ 0.12446965],\n",
       "        [-0.11723971],\n",
       "        [-0.12468338],\n",
       "        [-0.12899064],\n",
       "        [ 0.1535948 ],\n",
       "        [ 0.20435141],\n",
       "        [-0.02517146],\n",
       "        [ 0.06296232],\n",
       "        [-0.14937018],\n",
       "        [-0.29553524],\n",
       "        [-0.19314617],\n",
       "        [-0.00898371],\n",
       "        [-0.07276586],\n",
       "        [-0.01601467],\n",
       "        [-0.22706984],\n",
       "        [ 0.05415203],\n",
       "        [ 0.1911191 ],\n",
       "        [ 0.0857346 ],\n",
       "        [ 0.12136586],\n",
       "        [-0.28638163],\n",
       "        [ 0.1285714 ],\n",
       "        [-0.2141685 ],\n",
       "        [-0.0653675 ],\n",
       "        [ 0.13524   ],\n",
       "        [-0.0283417 ],\n",
       "        [-0.85933733],\n",
       "        [-0.13011664],\n",
       "        [-0.05053945],\n",
       "        [ 0.15252468],\n",
       "        [-0.07476538],\n",
       "        [-0.0411024 ],\n",
       "        [ 0.11084398],\n",
       "        [ 0.11741265],\n",
       "        [-0.40112814],\n",
       "        [-0.01532658],\n",
       "        [-0.09645334],\n",
       "        [ 0.05719687],\n",
       "        [ 0.0373736 ],\n",
       "        [ 0.18575877],\n",
       "        [-0.10109495],\n",
       "        [ 0.1594553 ],\n",
       "        [-0.14270388],\n",
       "        [-0.12246497],\n",
       "        [ 0.04817365],\n",
       "        [ 0.16302004],\n",
       "        [-0.07614001],\n",
       "        [-0.12494937],\n",
       "        [-0.74695593],\n",
       "        [-0.02348792],\n",
       "        [ 0.03186268],\n",
       "        [ 0.05859074],\n",
       "        [-0.15175466],\n",
       "        [-0.37862718],\n",
       "        [-0.04238956],\n",
       "        [-0.17097479],\n",
       "        [-0.22935888],\n",
       "        [ 0.14606322],\n",
       "        [ 0.01408233],\n",
       "        [-0.17103404]], dtype=float32),\n",
       " array([-0.7660305], dtype=float32)]"
      ]
     },
     "execution_count": 5,
     "metadata": {},
     "output_type": "execute_result"
    }
   ],
   "source": [
    "model.get_weights()"
   ]
  },
  {
   "cell_type": "code",
   "execution_count": 6,
   "metadata": {},
   "outputs": [],
   "source": [
    "##step-2 : Helper functions\n",
    "##function to decode reviews\n",
    "def decode_review(encoded_review):\n",
    "    return ' '.join([reverse_word_index.get(i-3,'?') for i in encoded_review])\n",
    "\n",
    "##function to preprocess user input\n",
    "def preprocess_text(text):\n",
    "    words = text.lower().split()\n",
    "    encoded_review = [word_index.get(word,2)+3 for word in words]\n",
    "    padded_review = sequence.pad_sequences([encoded_review],maxlen=500)\n",
    "    return padded_review"
   ]
  },
  {
   "cell_type": "code",
   "execution_count": 7,
   "metadata": {},
   "outputs": [],
   "source": [
    "##prediction function\n",
    "def predict_sentiment(review):\n",
    "    preprocess_input = preprocess_text(review)\n",
    "    prediction = model.predict(preprocess_input)\n",
    "\n",
    "    sentiment = 'Positive' if prediction[0][0] >0.5 else 'Negative'\n",
    "    return sentiment,prediction[0][0]"
   ]
  },
  {
   "cell_type": "code",
   "execution_count": 8,
   "metadata": {},
   "outputs": [
    {
     "name": "stdout",
     "output_type": "stream",
     "text": [
      "\u001b[1m1/1\u001b[0m \u001b[32m━━━━━━━━━━━━━━━━━━━━\u001b[0m\u001b[37m\u001b[0m \u001b[1m0s\u001b[0m 246ms/step\n",
      "Review: This movie was fantastic! The acting was great and the plot was thrilling.\n",
      "Sentiment: Positive\n",
      "Prediction Score: 0.6901781558990479\n"
     ]
    }
   ],
   "source": [
    "##step-4 user input and prediction\n",
    "##example review\n",
    "example_review = 'This movie was fantastic! The acting was great and the plot was thrilling.'\n",
    "sentiment,score = predict_sentiment(example_review)\n",
    "\n",
    "print(f'Review: {example_review}')\n",
    "print(f'Sentiment: {sentiment}')\n",
    "print(f'Prediction Score: {score}')"
   ]
  },
  {
   "cell_type": "code",
   "execution_count": null,
   "metadata": {},
   "outputs": [],
   "source": []
  },
  {
   "cell_type": "code",
   "execution_count": null,
   "metadata": {},
   "outputs": [],
   "source": []
  },
  {
   "cell_type": "code",
   "execution_count": null,
   "metadata": {},
   "outputs": [],
   "source": []
  },
  {
   "cell_type": "code",
   "execution_count": null,
   "metadata": {},
   "outputs": [],
   "source": []
  }
 ],
 "metadata": {
  "kernelspec": {
   "display_name": "Python 3",
   "language": "python",
   "name": "python3"
  },
  "language_info": {
   "codemirror_mode": {
    "name": "ipython",
    "version": 3
   },
   "file_extension": ".py",
   "mimetype": "text/x-python",
   "name": "python",
   "nbconvert_exporter": "python",
   "pygments_lexer": "ipython3",
   "version": "3.12.0"
  }
 },
 "nbformat": 4,
 "nbformat_minor": 2
}
